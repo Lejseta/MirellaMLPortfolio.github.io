{
 "cells": [
  {
   "cell_type": "markdown",
   "metadata": {},
   "source": [
    "Mirella Glowinska\n",
    "C00275764\n",
    "Datset source: https://www.kaggle.com/datasets/birdy654/cifake-real-and-ai-generated-synthetic-images\n",
    "Tutrial: https://www.analyticsvidhya.com/blog/2021/06/image-processing-using-cnn-a-beginners-guide/"
   ]
  },
  {
   "cell_type": "code",
   "execution_count": null,
   "metadata": {},
   "outputs": [],
   "source": [
    "import tensorflow as tf\n",
    "from tensorflow.keras import layers\n",
    "from sklearn.model_selection import train_test_split\n",
    "import os\n",
    "import matplotlib.pyplot as plt\n",
    "\n",
    "IMG_SIZE = (32, 32)\n",
    "BATCH_SIZE = 32\n",
    "EPOCHS = 15\n",
    "\n",
    "def load_subset(directory, max_samples_per_class=20000):\n",
    "    classes = ['real', 'fake']\n",
    "    image_paths = []\n",
    "    labels = []\n",
    "    for idx, cls in enumerate(classes):\n",
    "        cls_dir = os.path.join(directory, cls)\n",
    "        files = os.listdir(cls_dir)[:max_samples_per_class]\n",
    "        for f in files:\n",
    "            image_paths.append(os.path.join(cls_dir, f))\n",
    "            # 0 - real\n",
    "            # 1 - fake\n",
    "            labels.append(idx)  \n",
    "    return image_paths, labels\n",
    "\n",
    "train_directory = '../datasets/FakevsRealImages/train'\n",
    "test_directory = '../datasets/FakevsRealImages/test'"
   ]
  },
  {
   "cell_type": "code",
   "execution_count": 16,
   "metadata": {},
   "outputs": [
    {
     "data": {
      "image/png": "[encoded data removed]",
      "text/plain": [
       "<Figure size 1000x500 with 2 Axes>"
      ]
     },
     "metadata": {},
     "output_type": "display_data"
    },
    {
     "name": "stdout",
     "output_type": "stream",
     "text": [
      "\n",
      "Training set statistics\n",
      "- Real: 50000 images\n",
      "- Fake: 50000 images\n",
      "\n",
      "Test set statistics\n",
      "- Real: 10000 images\n",
      "- Fake: 10000 images\n"
     ]
    }
   ],
   "source": [
    "def count_images(directory):\n",
    "    classes = ['real', 'fake']\n",
    "    counts = {'real': 0, 'fake': 0}\n",
    "    for cls in classes:\n",
    "        cls_dir = os.path.join(directory, cls)\n",
    "        if not os.path.exists(cls_dir):\n",
    "            print(f\"Directory {cls_dir} does not exist\")\n",
    "            continue\n",
    "            \n",
    "        valid_extensions = ('.jpg', '.jpeg', '.png')\n",
    "        files = [f for f in os.listdir(cls_dir) if f.lower().endswith(valid_extensions)]\n",
    "        counts[cls] = len(files)\n",
    "        \n",
    "    return counts\n",
    "\n",
    "train_counts = count_images(train_directory)\n",
    "test_counts = count_images(test_directory)\n",
    "\n",
    "plt.figure(figsize=(10, 5))\n",
    "\n",
    "plt.subplot(1, 2, 1)\n",
    "plt.bar(['Real', 'Fake'], [train_counts['real'], train_counts['fake']], color=['green', 'red'])\n",
    "plt.title('Class Distribution - Training')\n",
    "plt.ylabel('Image Count')\n",
    "\n",
    "plt.subplot(1, 2, 2)\n",
    "plt.bar(['Real', 'Fake'], [test_counts['real'], test_counts['fake']], color=['green', 'red'])\n",
    "plt.title('Class Distribution - Test')\n",
    "\n",
    "plt.tight_layout()\n",
    "plt.show()\n",
    "\n",
    "print(f\"\\nTraining set statistics\")\n",
    "print(f\"- Real: {train_counts['real']} images\")\n",
    "print(f\"- Fake: {train_counts['fake']} images\")\n",
    "\n",
    "print(f\"\\nTest set statistics\")\n",
    "print(f\"- Real: {test_counts['real']} images\")\n",
    "print(f\"- Fake: {test_counts['fake']} images\")"
   ]
  },
  {
   "cell_type": "code",
   "execution_count": null,
   "metadata": {},
   "outputs": [
    {
     "name": "stdout",
     "output_type": "stream",
     "text": [
      "Epoch 1/15\n"
     ]
    },
    {
     "name": "stderr",
     "output_type": "stream",
     "text": [
      "C:\\Users\\Mirella\\AppData\\Roaming\\Python\\Python312\\site-packages\\keras\\src\\layers\\convolutional\\base_conv.py:107: UserWarning: Do not pass an `input_shape`/`input_dim` argument to a layer. When using Sequential models, prefer using an `Input(shape)` object as the first layer in the model instead.\n",
      "  super().__init__(activity_regularizer=activity_regularizer, **kwargs)\n"
     ]
    },
    {
     "name": "stdout",
     "output_type": "stream",
     "text": [
      "\u001b[1m1000/1000\u001b[0m \u001b[32m━━━━━━━━━━━━━━━━━━━━\u001b[0m\u001b[37m\u001b[0m \u001b[1m35s\u001b[0m 29ms/step - accuracy: 0.7112 - loss: 0.5541 - val_accuracy: 0.8393 - val_loss: 0.3632\n",
      "Epoch 2/15\n",
      "\u001b[1m1000/1000\u001b[0m \u001b[32m━━━━━━━━━━━━━━━━━━━━\u001b[0m\u001b[37m\u001b[0m \u001b[1m23s\u001b[0m 20ms/step - accuracy: 0.8433 - loss: 0.3705 - val_accuracy: 0.8876 - val_loss: 0.2763\n",
      "Epoch 3/15\n",
      "\u001b[1m1000/1000\u001b[0m \u001b[32m━━━━━━━━━━━━━━━━━━━━\u001b[0m\u001b[37m\u001b[0m \u001b[1m22s\u001b[0m 20ms/step - accuracy: 0.8640 - loss: 0.3239 - val_accuracy: 0.8988 - val_loss: 0.2545\n",
      "Epoch 4/15\n",
      "\u001b[1m1000/1000\u001b[0m \u001b[32m━━━━━━━━━━━━━━━━━━━━\u001b[0m\u001b[37m\u001b[0m \u001b[1m15s\u001b[0m 13ms/step - accuracy: 0.8821 - loss: 0.2866 - val_accuracy: 0.9074 - val_loss: 0.2316\n",
      "Epoch 5/15\n",
      "\u001b[1m1000/1000\u001b[0m \u001b[32m━━━━━━━━━━━━━━━━━━━━\u001b[0m\u001b[37m\u001b[0m \u001b[1m15s\u001b[0m 13ms/step - accuracy: 0.8890 - loss: 0.2737 - val_accuracy: 0.9093 - val_loss: 0.2299\n",
      "Epoch 6/15\n",
      "\u001b[1m1000/1000\u001b[0m \u001b[32m━━━━━━━━━━━━━━━━━━━━\u001b[0m\u001b[37m\u001b[0m \u001b[1m16s\u001b[0m 14ms/step - accuracy: 0.8985 - loss: 0.2514 - val_accuracy: 0.9121 - val_loss: 0.2228\n",
      "Epoch 7/15\n",
      "\u001b[1m1000/1000\u001b[0m \u001b[32m━━━━━━━━━━━━━━━━━━━━\u001b[0m\u001b[37m\u001b[0m \u001b[1m16s\u001b[0m 14ms/step - accuracy: 0.8994 - loss: 0.2466 - val_accuracy: 0.9121 - val_loss: 0.2233\n",
      "Epoch 8/15\n",
      "\u001b[1m1000/1000\u001b[0m \u001b[32m━━━━━━━━━━━━━━━━━━━━\u001b[0m\u001b[37m\u001b[0m \u001b[1m17s\u001b[0m 15ms/step - accuracy: 0.9076 - loss: 0.2312 - val_accuracy: 0.9183 - val_loss: 0.2034\n",
      "Epoch 9/15\n",
      "\u001b[1m1000/1000\u001b[0m \u001b[32m━━━━━━━━━━━━━━━━━━━━\u001b[0m\u001b[37m\u001b[0m \u001b[1m19s\u001b[0m 17ms/step - accuracy: 0.9091 - loss: 0.2284 - val_accuracy: 0.9190 - val_loss: 0.2018\n",
      "Epoch 10/15\n",
      "\u001b[1m1000/1000\u001b[0m \u001b[32m━━━━━━━━━━━━━━━━━━━━\u001b[0m\u001b[37m\u001b[0m \u001b[1m19s\u001b[0m 17ms/step - accuracy: 0.9136 - loss: 0.2203 - val_accuracy: 0.9209 - val_loss: 0.1993\n",
      "Epoch 11/15\n",
      "\u001b[1m1000/1000\u001b[0m \u001b[32m━━━━━━━━━━━━━━━━━━━━\u001b[0m\u001b[37m\u001b[0m \u001b[1m32s\u001b[0m 29ms/step - accuracy: 0.9139 - loss: 0.2117 - val_accuracy: 0.9171 - val_loss: 0.2141\n",
      "Epoch 12/15\n",
      "\u001b[1m1000/1000\u001b[0m \u001b[32m━━━━━━━━━━━━━━━━━━━━\u001b[0m\u001b[37m\u001b[0m \u001b[1m35s\u001b[0m 26ms/step - accuracy: 0.9170 - loss: 0.2063 - val_accuracy: 0.9214 - val_loss: 0.2006\n",
      "Epoch 13/15\n",
      "\u001b[1m1000/1000\u001b[0m \u001b[32m━━━━━━━━━━━━━━━━━━━━\u001b[0m\u001b[37m\u001b[0m \u001b[1m41s\u001b[0m 38ms/step - accuracy: 0.9219 - loss: 0.1953 - val_accuracy: 0.9119 - val_loss: 0.2205\n",
      "Epoch 14/15\n",
      "\u001b[1m1000/1000\u001b[0m \u001b[32m━━━━━━━━━━━━━━━━━━━━\u001b[0m\u001b[37m\u001b[0m \u001b[1m28s\u001b[0m 25ms/step - accuracy: 0.9265 - loss: 0.1876 - val_accuracy: 0.9197 - val_loss: 0.1993\n",
      "Epoch 15/15\n",
      "\u001b[1m1000/1000\u001b[0m \u001b[32m━━━━━━━━━━━━━━━━━━━━\u001b[0m\u001b[37m\u001b[0m \u001b[1m26s\u001b[0m 23ms/step - accuracy: 0.9264 - loss: 0.1851 - val_accuracy: 0.9205 - val_loss: 0.2024\n",
      "\u001b[1m625/625\u001b[0m \u001b[32m━━━━━━━━━━━━━━━━━━━━\u001b[0m\u001b[37m\u001b[0m \u001b[1m33s\u001b[0m 53ms/step - accuracy: 0.9311 - loss: 0.1840\n"
     ]
    },
    {
     "name": "stderr",
     "output_type": "stream",
     "text": [
      "WARNING:absl:You are saving your model as an HDF5 file via `model.save()` or `keras.saving.save_model(model)`. This file format is considered legacy. We recommend using instead the native Keras format, e.g. `model.save('my_model.keras')` or `keras.saving.save_model(model, 'my_model.keras')`. \n"
     ]
    },
    {
     "name": "stdout",
     "output_type": "stream",
     "text": [
      "\n",
      "Test set accuracy: 92.01%\n",
      "Test set loss: 0.2077\n"
     ]
    },
    {
     "ename": "",
     "evalue": "",
     "output_type": "error",
     "traceback": [
      "\u001b[1;31mThe Kernel crashed while executing code in the current cell or a previous cell. \n",
      "\u001b[1;31mPlease review the code in the cell(s) to identify a possible cause of the failure. \n",
      "\u001b[1;31mClick <a href='https://aka.ms/vscodeJupyterKernelCrash'>here</a> for more info. \n",
      "\u001b[1;31mView Jupyter <a href='command:jupyter.viewOutput'>log</a> for further details."
     ]
    }
   ],
   "source": [
    "train_image_paths, train_labels = load_subset(train_directory)\n",
    "test_image_paths, test_labels = load_subset(test_directory)\n",
    "\n",
    "train_image_paths, val_image_paths, train_labels, val_labels = train_test_split(\n",
    "    train_image_paths, train_labels, \n",
    "    test_size=0.2, \n",
    "    random_state=42,\n",
    "    stratify=train_labels\n",
    ")\n",
    "\n",
    "train_dataset = tf.data.Dataset.from_tensor_slices((train_image_paths, train_labels))\n",
    "val_dataset = tf.data.Dataset.from_tensor_slices((val_image_paths, val_labels))\n",
    "test_dataset = tf.data.Dataset.from_tensor_slices((test_image_paths, test_labels))\n",
    "\n",
    "def parse_image(image_path, label):\n",
    "    image = tf.io.read_file(image_path)\n",
    "    image = tf.image.decode_jpeg(image, channels=3)\n",
    "    image = tf.image.resize(image, IMG_SIZE)\n",
    "    # normalisation\n",
    "    # 0 - black\n",
    "    # 255- white\n",
    "    # x = 0, / 255.0 = 0\n",
    "    # x = 255, / 255.0 = 1\n",
    "    image = image / 255.0  \n",
    "    return image, label\n",
    "\n",
    "def augment(image, label):\n",
    "    image = tf.image.random_flip_left_right(image)\n",
    "    image = tf.image.random_brightness(image, max_delta=0.1)\n",
    "    image = tf.image.random_contrast(image, lower=0.9, upper=1.1)\n",
    "    return image, label\n",
    "\n",
    "train_dataset = (\n",
    "    train_dataset\n",
    "    .map(parse_image, num_parallel_calls=tf.data.AUTOTUNE)\n",
    "    .map(augment, num_parallel_calls=tf.data.AUTOTUNE)\n",
    "    .shuffle(10000)\n",
    "    .batch(BATCH_SIZE)\n",
    "    .prefetch(tf.data.AUTOTUNE)\n",
    ")\n",
    "\n",
    "val_dataset = (\n",
    "    val_dataset\n",
    "    .map(parse_image, num_parallel_calls=tf.data.AUTOTUNE)\n",
    "    .batch(BATCH_SIZE)\n",
    "    .prefetch(tf.data.AUTOTUNE)\n",
    ")\n",
    "\n",
    "test_dataset = (\n",
    "    test_dataset\n",
    "    .map(parse_image, num_parallel_calls=tf.data.AUTOTUNE)\n",
    "    .batch(BATCH_SIZE)\n",
    "    .prefetch(tf.data.AUTOTUNE)\n",
    ")\n",
    "\n",
    "model = tf.keras.Sequential([\n",
    "    layers.Conv2D(32, (3,3), activation='relu', input_shape=(32, 32, 3)),\n",
    "    layers.MaxPooling2D((2,2)),\n",
    "    layers.Conv2D(64, (3,3), activation='relu'),\n",
    "    layers.MaxPooling2D((2,2)),\n",
    "    layers.Conv2D(64, (3,3), activation='relu'),\n",
    "    layers.Flatten(),\n",
    "    layers.Dense(64, activation='relu'),\n",
    "    layers.Dropout(0.5),\n",
    "    layers.Dense(1, activation='sigmoid')\n",
    "])\n",
    "\n",
    "model.compile(optimizer='adam',\n",
    "              loss='binary_crossentropy',\n",
    "              metrics=['accuracy'])\n",
    "\n",
    "history = model.fit(\n",
    "    train_dataset,\n",
    "    validation_data=val_dataset,\n",
    "    epochs=EPOCHS\n",
    ")\n",
    "\n",
    "test_loss, test_acc = model.evaluate(test_dataset)\n",
    "print(f'\\nTest set accuracy: {test_acc:.2%}')\n",
    "print(f'Test set loss: {test_loss:.4f}')\n",
    "\n",
    "model.save('../Deployment/fake_vs_real_images.h5')"
   ]
  }
 ],
 "metadata": {
  "kernelspec": {
   "display_name": "Python 3",
   "language": "python",
   "name": "python3"
  },
  "language_info": {
   "codemirror_mode": {
    "name": "ipython",
    "version": 3
   },
   "file_extension": ".py",
   "mimetype": "text/x-python",
   "name": "python",
   "nbconvert_exporter": "python",
   "pygments_lexer": "ipython3",
   "version": "3.12.6"
  }
 },
 "nbformat": 4,
 "nbformat_minor": 2
}
