{
  "nbformat": 4,
  "nbformat_minor": 0,
  "metadata": {
    "colab": {
      "provenance": []
    },
    "kernelspec": {
      "name": "python3",
      "display_name": "Python 3"
    },
    "language_info": {
      "name": "python"
    }
  },
  "cells": [
    {
      "cell_type": "code",
      "source": [
        "from google.colab import drive\n",
        "drive.mount('/content/drive')"
      ],
      "metadata": {
        "colab": {
          "base_uri": "https://localhost:8080/"
        },
        "id": "Us25iGsfBjTg",
        "outputId": "17356766-e9f2-4937-93da-68f14ca0ee0c"
      },
      "execution_count": 1,
      "outputs": [
        {
          "output_type": "stream",
          "name": "stdout",
          "text": [
            "Mounted at /content/drive\n"
          ]
        }
      ]
    },
    {
      "cell_type": "markdown",
      "source": [
        "Mirella Glowinska C00275764\n",
        "\n",
        "Dataset Source: https://ai.stanford.edu/~amaas/data/sentiment/\n",
        "\n",
        "Documentation: https://scikit-learn.org/stable/modules/generated/sklearn.feature_extraction.text.TfidfTransformer?utm_source=chatgpt.com"
      ],
      "metadata": {
        "id": "SJD4vrwz-_LI"
      }
    },
    {
      "cell_type": "code",
      "source": [
        "from sklearn.model_selection import train_test_split\n",
        "from sklearn.feature_extraction.text import CountVectorizer, TfidfTransformer\n",
        "from sklearn.naive_bayes import MultinomialNB\n",
        "from sklearn.pipeline import Pipeline\n",
        "from sklearn.metrics import accuracy_score, classification_report\n",
        "import os\n",
        "import matplotlib.pyplot as plt\n",
        "\n",
        "from google.colab import drive\n",
        "drive.mount('/content/drive')\n",
        "\n",
        "pos_folder = '/content/drive/MyDrive/Datasets/MovieReview/pos'\n",
        "neg_folder = '/content/drive/MyDrive/Datasets/MovieReview/neg'\n",
        "\n",
        "def load_data(folder_path, label):\n",
        "    if not os.path.exists(folder_path):\n",
        "        raise ValueError(f\"Folder {folder_path} does not exist!\")\n",
        "\n",
        "    texts = []\n",
        "    labels = []\n",
        "    for file_name in os.listdir(folder_path):\n",
        "        if file_name.endswith('.txt'):\n",
        "            file_path = os.path.join(folder_path, file_name)\n",
        "            try:\n",
        "                with open(file_path, 'r', encoding='utf-8') as file:\n",
        "                    first_char = file.read(1)\n",
        "                    if not first_char:\n",
        "                        print(f\"Skipping empty file: {file_name}\")\n",
        "                        continue\n",
        "                    file.seek(0)\n",
        "                    texts.append(file.read())\n",
        "                    labels.append(label)\n",
        "            except Exception as e:\n",
        "                print(f\"Error reading {file_name}: {e}\")\n",
        "                continue\n",
        "    return texts, labels\n",
        "\n",
        "\n",
        "pos_texts, pos_labels = load_data(pos_folder, 1)\n",
        "neg_texts, neg_labels = load_data(neg_folder, 0)\n",
        "\n",
        "reviews = pos_texts + neg_texts\n",
        "labels = pos_labels + neg_labels\n",
        "print(\"------------------------------------------------------------------------------\")\n",
        "print(\"Total number of reviews:\", len(reviews))\n",
        "print(\"------------------------------------------------------------------------------\")\n",
        "print(\"Number of positive reviews:\", len(pos_texts))\n",
        "print(\"------------------------------------------------------------------------------\")\n",
        "print(\"Number of negative reviews:\", len(neg_texts))\n",
        "print(\"------------------------------------------------------------------------------\")\n",
        "\n",
        "num_pos = len(pos_texts)\n",
        "num_neg = len(neg_texts)\n",
        "\n",
        "plt.figure(figsize=(6, 4))\n",
        "plt.bar([\"Positive Reviews\", \"Negative Reviews\"], [num_pos, num_neg], color=['green', 'red'])\n",
        "\n",
        "plt.ylabel(\"Number of Reviews\")\n",
        "plt.title(\"Distribution of Positive and Negative Reviews\")\n",
        "plt.show()\n",
        "\n",
        "X_train, X_test, y_train, y_test = train_test_split(reviews, labels, test_size=0.2, random_state=42)\n",
        "\n",
        "model = Pipeline([\n",
        "    # Transforms a collection of text documents into a matrix of token counts\n",
        "    ('vect', CountVectorizer()),\n",
        "    # Transform a count-based representation of text data into Term Frequency-Inverse Document Frequency features\n",
        "    ('tfidf', TfidfTransformer()),\n",
        "    ('clf', MultinomialNB())\n",
        "])\n",
        "\n",
        "model.fit(X_train, y_train)\n",
        "\n",
        "y_pred = model.predict(X_test)\n",
        "print(\"Accuracy:\", accuracy_score(y_test, y_pred))\n",
        "print(\"Classification Report:\\n\", classification_report(y_test, y_pred))\n",
        "\n",
        "new_review = [\"This movie was fantastic and I loved every minute of it!\"]\n",
        "prediction = model.predict(new_review)\n",
        "print(\"Label provided for new review:\", \"Positive\" if prediction[0] == 1 else \"Negative\")"
      ],
      "metadata": {
        "colab": {
          "base_uri": "https://localhost:8080/",
          "height": 738
        },
        "id": "fEcHbxr8ExlW",
        "outputId": "84a70aad-614f-4a83-fec3-c661130f887a"
      },
      "execution_count": 4,
      "outputs": [
        {
          "output_type": "stream",
          "name": "stdout",
          "text": [
            "Drive already mounted at /content/drive; to attempt to forcibly remount, call drive.mount(\"/content/drive\", force_remount=True).\n",
            "------------------------------------------------------------------------------\n",
            "Total number of reviews: 25000\n",
            "------------------------------------------------------------------------------\n",
            "Number of positive reviews: 12500\n",
            "------------------------------------------------------------------------------\n",
            "Number of negative reviews: 12500\n",
            "------------------------------------------------------------------------------\n"
          ]
        },
        {
          "output_type": "display_data",
          "data": {
            "text/plain": [
              "<Figure size 600x400 with 1 Axes>"
            ],
            "image/png": "[encoded data removed]"
          },
          "metadata": {}
        },
        {
          "output_type": "stream",
          "name": "stdout",
          "text": [
            "Accuracy: 0.868\n",
            "Classification Report:\n",
            "               precision    recall  f1-score   support\n",
            "\n",
            "           0       0.85      0.90      0.87      2485\n",
            "           1       0.89      0.84      0.86      2515\n",
            "\n",
            "    accuracy                           0.87      5000\n",
            "   macro avg       0.87      0.87      0.87      5000\n",
            "weighted avg       0.87      0.87      0.87      5000\n",
            "\n",
            "Label provided for new review: Positive\n"
          ]
        }
      ]
    }
  ]
}