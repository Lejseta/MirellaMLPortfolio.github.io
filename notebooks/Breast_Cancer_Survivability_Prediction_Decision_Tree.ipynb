{
  "nbformat": 4,
  "nbformat_minor": 0,
  "metadata": {
    "colab": {
      "provenance": []
    },
    "kernelspec": {
      "name": "python3",
      "display_name": "Python 3"
    },
    "language_info": {
      "name": "python"
    }
  },
  "cells": [
    {
      "cell_type": "code",
      "execution_count": 3,
      "metadata": {
        "colab": {
          "base_uri": "https://localhost:8080/"
        },
        "id": "IMcsCwGsUjby",
        "outputId": "b4070c26-f130-4d6f-ee1c-c811b7215398"
      },
      "outputs": [
        {
          "output_type": "stream",
          "name": "stdout",
          "text": [
            "Mounted at /content/drive\n"
          ]
        }
      ],
      "source": [
        "from google.colab import drive\n",
        "drive.mount('/content/drive')"
      ]
    },
    {
      "cell_type": "markdown",
      "source": [
        "Mirella Glowinska\n",
        "Source: https://www.kaggle.com/datasets/reihanenamdari/breast-cancer/data"
      ],
      "metadata": {
        "id": "oovEIXGKMRF9"
      }
    },
    {
      "cell_type": "code",
      "source": [
        "import pandas as pd\n",
        "import matplotlib.pyplot as plt\n",
        "import seaborn as sns\n",
        "from sklearn.model_selection import train_test_split\n",
        "from sklearn.preprocessing import LabelEncoder\n",
        "from sklearn.tree import DecisionTreeClassifier\n",
        "from sklearn.metrics import accuracy_score, classification_report, confusion_matrix\n",
        "from sklearn.metrics import mean_absolute_error, mean_squared_error, r2_score\n",
        "import numpy as np"
      ],
      "metadata": {
        "id": "TRA28UlsfWtO"
      },
      "execution_count": 13,
      "outputs": []
    },
    {
      "cell_type": "code",
      "source": [
        "csv_file_path = '/content/drive/MyDrive/Datasets/Breast_Cancer.csv'\n",
        "df = pd.read_csv(csv_file_path)\n",
        "print(df.head())\n",
        "\n",
        "print(df.describe())"
      ],
      "metadata": {
        "colab": {
          "base_uri": "https://localhost:8080/"
        },
        "id": "XYPF0dFMeGLN",
        "outputId": "a1cce4b5-a2a3-4bfc-c77e-450eeb3dae2e"
      },
      "execution_count": 14,
      "outputs": [
        {
          "output_type": "stream",
          "name": "stdout",
          "text": [
            "   Age   Race Marital Status T Stage  N Stage 6th Stage  \\\n",
            "0   68  White        Married       T1      N1       IIA   \n",
            "1   50  White        Married       T2      N2      IIIA   \n",
            "2   58  White       Divorced       T3      N3      IIIC   \n",
            "3   58  White        Married       T1      N1       IIA   \n",
            "4   47  White        Married       T2      N1       IIB   \n",
            "\n",
            "               differentiate Grade   A Stage  Tumor Size Estrogen Status  \\\n",
            "0      Poorly differentiated     3  Regional           4        Positive   \n",
            "1  Moderately differentiated     2  Regional          35        Positive   \n",
            "2  Moderately differentiated     2  Regional          63        Positive   \n",
            "3      Poorly differentiated     3  Regional          18        Positive   \n",
            "4      Poorly differentiated     3  Regional          41        Positive   \n",
            "\n",
            "  Progesterone Status  Regional Node Examined  Reginol Node Positive  \\\n",
            "0            Positive                      24                      1   \n",
            "1            Positive                      14                      5   \n",
            "2            Positive                      14                      7   \n",
            "3            Positive                       2                      1   \n",
            "4            Positive                       3                      1   \n",
            "\n",
            "   Survival Months Status  \n",
            "0               60  Alive  \n",
            "1               62  Alive  \n",
            "2               75  Alive  \n",
            "3               84  Alive  \n",
            "4               50  Alive  \n",
            "               Age   Tumor Size  Regional Node Examined  \\\n",
            "count  4024.000000  4024.000000             4024.000000   \n",
            "mean     53.972167    30.473658               14.357107   \n",
            "std       8.963134    21.119696                8.099675   \n",
            "min      30.000000     1.000000                1.000000   \n",
            "25%      47.000000    16.000000                9.000000   \n",
            "50%      54.000000    25.000000               14.000000   \n",
            "75%      61.000000    38.000000               19.000000   \n",
            "max      69.000000   140.000000               61.000000   \n",
            "\n",
            "       Reginol Node Positive  Survival Months  \n",
            "count            4024.000000      4024.000000  \n",
            "mean                4.158052        71.297962  \n",
            "std                 5.109331        22.921430  \n",
            "min                 1.000000         1.000000  \n",
            "25%                 1.000000        56.000000  \n",
            "50%                 2.000000        73.000000  \n",
            "75%                 5.000000        90.000000  \n",
            "max                46.000000       107.000000  \n"
          ]
        }
      ]
    },
    {
      "cell_type": "code",
      "source": [
        "print(f'Shape of Dataset before drop duplicated Row is: {df.shape}')\n",
        "df= df.drop_duplicates()\n",
        "print(f'Shape of Dataset After Drop Duplicated Row is: {df.shape}')"
      ],
      "metadata": {
        "colab": {
          "base_uri": "https://localhost:8080/"
        },
        "id": "eeS9kd1BDeeX",
        "outputId": "2a891a71-8b32-439d-c631-62b5b9aaa912"
      },
      "execution_count": 15,
      "outputs": [
        {
          "output_type": "stream",
          "name": "stdout",
          "text": [
            "Shape of Dataset before drop duplicated Row is: (4024, 16)\n",
            "Shape of Dataset After Drop Duplicated Row is: (4023, 16)\n"
          ]
        }
      ]
    },
    {
      "cell_type": "code",
      "source": [
        "num_rows, num_cols = df.shape\n",
        "print(f'Number of rows: {num_rows}')\n",
        "print(f'Number of columns: {num_cols}')"
      ],
      "metadata": {
        "colab": {
          "base_uri": "https://localhost:8080/"
        },
        "id": "HcEIodxoFpW1",
        "outputId": "ec9383d6-99ab-4f63-a011-af2e2fb7851e"
      },
      "execution_count": 16,
      "outputs": [
        {
          "output_type": "stream",
          "name": "stdout",
          "text": [
            "Number of rows: 4023\n",
            "Number of columns: 16\n"
          ]
        }
      ]
    },
    {
      "cell_type": "code",
      "source": [
        "print(f'Column names: {df.columns}')"
      ],
      "metadata": {
        "colab": {
          "base_uri": "https://localhost:8080/"
        },
        "id": "cxB76tKsHTwk",
        "outputId": "c32f034b-99be-4a38-a287-4e0b772e91a6"
      },
      "execution_count": 17,
      "outputs": [
        {
          "output_type": "stream",
          "name": "stdout",
          "text": [
            "Column names: Index(['Age', 'Race', 'Marital Status', 'T Stage ', 'N Stage', '6th Stage',\n",
            "       'differentiate', 'Grade', 'A Stage', 'Tumor Size', 'Estrogen Status',\n",
            "       'Progesterone Status', 'Regional Node Examined',\n",
            "       'Reginol Node Positive', 'Survival Months', 'Status'],\n",
            "      dtype='object')\n"
          ]
        }
      ]
    },
    {
      "cell_type": "code",
      "source": [
        "label_encoders = {}\n",
        "for column in df.select_dtypes(include=['object']).columns:\n",
        "    le = LabelEncoder()\n",
        "    df[column] = le.fit_transform(df[column])\n",
        "    label_encoders[column] = le\n",
        "\n",
        "\n",
        "X = df.drop(columns=[\"Status\"])\n",
        "y = df[\"Status\"]\n"
      ],
      "metadata": {
        "id": "s7qB6z3Yginl"
      },
      "execution_count": 18,
      "outputs": []
    },
    {
      "cell_type": "code",
      "source": [
        "X_train, X_test, y_train, y_test = train_test_split(X, y, test_size=0.2, random_state=42)\n",
        "\n",
        "print(X_train.shape, X_test.shape)\n",
        "\n",
        "clf = DecisionTreeClassifier(random_state=42)\n",
        "\n",
        "clf.fit(X_train, y_train)\n",
        "\n",
        "y_pred = clf.predict(X_test)\n",
        "\n",
        "accuracy = accuracy_score(y_test, y_pred)\n",
        "print(\"\\nAccuracy:\", accuracy)\n",
        "print(\"\\nClassification Report:\\n\", classification_report(y_test, y_pred))"
      ],
      "metadata": {
        "colab": {
          "base_uri": "https://localhost:8080/"
        },
        "id": "crbGYhYmg1SF",
        "outputId": "cd4e4a05-d2e9-4be0-d3c8-453a474bc3a0"
      },
      "execution_count": 19,
      "outputs": [
        {
          "output_type": "stream",
          "name": "stdout",
          "text": [
            "(3218, 15) (805, 15)\n",
            "\n",
            "Accuracy: 0.8409937888198757\n",
            "\n",
            "Classification Report:\n",
            "               precision    recall  f1-score   support\n",
            "\n",
            "           0       0.91      0.90      0.91       678\n",
            "           1       0.50      0.51      0.50       127\n",
            "\n",
            "    accuracy                           0.84       805\n",
            "   macro avg       0.70      0.71      0.70       805\n",
            "weighted avg       0.84      0.84      0.84       805\n",
            "\n"
          ]
        }
      ]
    },
    {
      "cell_type": "code",
      "source": [
        "cm= confusion_matrix(y_test, y_pred)"
      ],
      "metadata": {
        "id": "8SZB6RZAhWW9"
      },
      "execution_count": 20,
      "outputs": []
    },
    {
      "cell_type": "code",
      "source": [
        "plt.figure(figsize=(8, 6))\n",
        "sns.heatmap(cm, annot=True, fmt='d', cmap='YlOrBr', cbar=False,\n",
        "            xticklabels=['Alive', 'Dead'],\n",
        "            yticklabels=['Alive', 'Dead'])\n",
        "plt.xlabel('Predicted')\n",
        "plt.ylabel('Actual')\n",
        "plt.title('Confusion Matrix')\n",
        "plt.show()"
      ],
      "metadata": {
        "colab": {
          "base_uri": "https://localhost:8080/",
          "height": 564
        },
        "id": "msjAuS0VGMO7",
        "outputId": "1ca45428-1067-41e6-8269-938db4d90587"
      },
      "execution_count": 21,
      "outputs": [
        {
          "output_type": "display_data",
          "data": {
            "text/plain": [
              "<Figure size 800x600 with 1 Axes>"
            ],
            "image/png": "[encoded data removed]"
          },
          "metadata": {}
        }
      ]
    }
  ]
}