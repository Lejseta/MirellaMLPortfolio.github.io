{
  "nbformat": 4,
  "nbformat_minor": 0,
  "metadata": {
    "colab": {
      "provenance": []
    },
    "kernelspec": {
      "name": "python3",
      "display_name": "Python 3"
    },
    "language_info": {
      "name": "python"
    }
  },
  "cells": [
    {
      "cell_type": "code",
      "execution_count": null,
      "metadata": {
        "colab": {
          "base_uri": "https://localhost:8080/"
        },
        "id": "FZttdO7Ewhth",
        "outputId": "7b5250d6-da96-4d66-a0df-9a60fee485c9"
      },
      "outputs": [
        {
          "output_type": "stream",
          "name": "stdout",
          "text": [
            "Drive already mounted at /content/drive; to attempt to forcibly remount, call drive.mount(\"/content/drive\", force_remount=True).\n"
          ]
        }
      ],
      "source": [
        "from google.colab import drive\n",
        "drive.mount('/content/drive')"
      ]
    },
    {
      "cell_type": "code",
      "source": [
        "import pandas as pd\n",
        "from sklearn.feature_extraction.text import TfidfVectorizer\n",
        "from sklearn.model_selection import train_test_split\n",
        "from sklearn.tree import DecisionTreeClassifier\n",
        "from sklearn.metrics import classification_report, accuracy_score\n",
        "from sklearn.ensemble import RandomForestClassifier\n",
        "from sklearn.feature_extraction.text import CountVectorizer"
      ],
      "metadata": {
        "id": "Pv_5KgaC0Alc"
      },
      "execution_count": null,
      "outputs": []
    },
    {
      "cell_type": "markdown",
      "source": [
        "Mirella Glowinska\n",
        "Dataset source: https://archive.ics.uci.edu/dataset/228/sms+spam+collection"
      ],
      "metadata": {
        "id": "gXjIl3m8g2yV"
      }
    },
    {
      "cell_type": "code",
      "source": [
        "csv_file_path = '/content/drive/MyDrive/Datasets/SMSSpamCollection'\n",
        "df = pd.read_csv(csv_file_path, sep='\\t', header=None, names=['class', 'message'])\n",
        "print(df.head())\n",
        "print()\n",
        "\n",
        "print(df.describe())\n",
        "print()\n",
        "\n",
        "num_rows, num_cols = df.shape\n",
        "print(f'Number of rows: {num_rows}')\n",
        "print(f'Number of columns: {num_cols}')\n",
        "print()\n",
        "\n",
        "print(f'Column names: {df.columns}')\n",
        "print()\n"
      ],
      "metadata": {
        "colab": {
          "base_uri": "https://localhost:8080/"
        },
        "id": "gC69g-mGxCiL",
        "outputId": "aad1b308-d756-466f-c41a-3bfbb5292f17"
      },
      "execution_count": null,
      "outputs": [
        {
          "output_type": "stream",
          "name": "stdout",
          "text": [
            "  class                                            message\n",
            "0   ham  Go until jurong point, crazy.. Available only ...\n",
            "1   ham                      Ok lar... Joking wif u oni...\n",
            "2  spam  Free entry in 2 a wkly comp to win FA Cup fina...\n",
            "3   ham  U dun say so early hor... U c already then say...\n",
            "4   ham  Nah I don't think he goes to usf, he lives aro...\n",
            "\n",
            "       class                 message\n",
            "count   5572                    5572\n",
            "unique     2                    5169\n",
            "top      ham  Sorry, I'll call later\n",
            "freq    4825                      30\n",
            "\n",
            "Number of rows: 5572\n",
            "Number of columns: 2\n",
            "\n",
            "Column names: Index(['class', 'message'], dtype='object')\n",
            "\n"
          ]
        }
      ]
    },
    {
      "cell_type": "code",
      "source": [
        "import matplotlib.pyplot as plt\n",
        "\n",
        "data = df['class'].value_counts()\n",
        "plt.figure(figsize=(8, 5))\n",
        "patches = data.plot(kind='bar', color=['green', 'red'])\n",
        "plt.title('Ham and Spam Count')\n",
        "plt.xlabel('Message Type')\n",
        "plt.ylabel('Count')\n",
        "#x label horizontal\n",
        "plt.xticks(rotation=0)\n",
        "plt.grid(axis='y', linestyle='--', alpha=0.7)\n",
        "\n",
        "for bar in patches.patches:\n",
        "    plt.annotate(f'{bar.get_height()}',\n",
        "    (bar.get_x() + bar.get_width() / 2, bar.get_height()), ha='center', va='bottom')\n",
        "\n",
        "plt.show()"
      ],
      "metadata": {
        "colab": {
          "base_uri": "https://localhost:8080/",
          "height": 487
        },
        "id": "xv226Eik0xE7",
        "outputId": "f3afdaa5-b04a-4ca7-9301-34dbf0cdea49"
      },
      "execution_count": null,
      "outputs": [
        {
          "output_type": "display_data",
          "data": {
            "text/plain": [
              "<Figure size 800x500 with 1 Axes>"
            ],
            "image/png": "[encoded data removed]"
          },
          "metadata": {}
        }
      ]
    },
    {
      "cell_type": "code",
      "source": [
        "print(\"Counts of spam and ham before removing duplicates:\")\n",
        "print(df['class'].value_counts())\n",
        "\n",
        "duplicates = df[df.duplicated()]\n",
        "print(f\"\\nNumber of duplicate rows: {duplicates.shape[0]}\")\n",
        "if not duplicates.empty:\n",
        "    print(\"Duplicate rows:\")\n",
        "    print(duplicates)\n",
        "\n",
        "print(f'\\nShape of Dataset before drop duplicated Row is: {df.shape}')\n",
        "df = df.drop_duplicates()\n",
        "print(f'Shape of Dataset After Drop Duplicated Row is: {df.shape}')\n",
        "\n",
        "print(\"\\nCounts of spam and ham after removing duplicates:\")\n",
        "print(df['class'].value_counts())\n"
      ],
      "metadata": {
        "colab": {
          "base_uri": "https://localhost:8080/"
        },
        "id": "ID3tj748AWyJ",
        "outputId": "0530cccf-9e3d-4dcf-cc07-2a6f0d6f83af"
      },
      "execution_count": null,
      "outputs": [
        {
          "output_type": "stream",
          "name": "stdout",
          "text": [
            "Counts of spam and ham before removing duplicates:\n",
            "class\n",
            "ham     4825\n",
            "spam     747\n",
            "Name: count, dtype: int64\n",
            "\n",
            "Number of duplicate rows: 403\n",
            "Duplicate rows:\n",
            "     class                                            message\n",
            "103    ham  As per your request 'Melle Melle (Oru Minnamin...\n",
            "154    ham  As per your request 'Melle Melle (Oru Minnamin...\n",
            "207    ham  As I entered my cabin my PA said, '' Happy B'd...\n",
            "223    ham                             Sorry, I'll call later\n",
            "326    ham                   No calls..messages..missed calls\n",
            "...    ...                                                ...\n",
            "5524  spam  You are awarded a SiPix Digital Camera! call 0...\n",
            "5535   ham  I know you are thinkin malaria. But relax, chi...\n",
            "5539   ham                         Just sleeping..and surfing\n",
            "5553   ham                        Hahaha..use your brain dear\n",
            "5558   ham                             Sorry, I'll call later\n",
            "\n",
            "[403 rows x 2 columns]\n",
            "\n",
            "Shape of Dataset before drop duplicated Row is: (5572, 2)\n",
            "Shape of Dataset After Drop Duplicated Row is: (5169, 2)\n",
            "\n",
            "Counts of spam and ham after removing duplicates:\n",
            "class\n",
            "ham     4516\n",
            "spam     653\n",
            "Name: count, dtype: int64\n"
          ]
        }
      ]
    },
    {
      "cell_type": "code",
      "source": [
        "df['class'] = df['class'].replace({'ham': 0, 'spam': 1})\n",
        "\n",
        "print(df.head())"
      ],
      "metadata": {
        "colab": {
          "base_uri": "https://localhost:8080/"
        },
        "id": "Ve12dPJY3z_l",
        "outputId": "a0b71274-a598-4d34-d28a-982f6f457f30"
      },
      "execution_count": null,
      "outputs": [
        {
          "output_type": "stream",
          "name": "stdout",
          "text": [
            "   class                                            message\n",
            "0      0  Go until jurong point, crazy.. Available only ...\n",
            "1      0                      Ok lar... Joking wif u oni...\n",
            "2      1  Free entry in 2 a wkly comp to win FA Cup fina...\n",
            "3      0  U dun say so early hor... U c already then say...\n",
            "4      0  Nah I don't think he goes to usf, he lives aro...\n"
          ]
        },
        {
          "output_type": "stream",
          "name": "stderr",
          "text": [
            "<ipython-input-85-bf63256cb5b1>:1: FutureWarning: Downcasting behavior in `replace` is deprecated and will be removed in a future version. To retain the old behavior, explicitly call `result.infer_objects(copy=False)`. To opt-in to the future behavior, set `pd.set_option('future.no_silent_downcasting', True)`\n",
            "  df['class'] = df['class'].replace({'ham': 0, 'spam': 1})\n"
          ]
        }
      ]
    },
    {
      "cell_type": "markdown",
      "source": [
        "Tutorial1: https://www.kaggle.com/code/prashant111/random-forest-classifier-tutorial\n",
        "\n",
        "Tutorial2: https://www.kaggle.com/code/prashant111/random-forest-classifier-tutorial"
      ],
      "metadata": {
        "id": "-2hcgJ7Txksb"
      }
    },
    {
      "cell_type": "code",
      "source": [
        "X = df[\"message\"]\n",
        "y = df[\"class\"]\n",
        "X_train, X_test, y_train, y_test = train_test_split(X, y, test_size = 0.33, random_state = 42)\n",
        "vectorizer = TfidfVectorizer()\n",
        "\n",
        "#transform text into numerical values\n",
        "X_train = vectorizer.fit_transform(X_train)\n",
        "X_test = vectorizer.transform(X_test)"
      ],
      "metadata": {
        "id": "HDvFyVFrxjQ-"
      },
      "execution_count": null,
      "outputs": []
    },
    {
      "cell_type": "code",
      "source": [
        "# shape of X and Y\n",
        "X_train.shape, X_test.shape"
      ],
      "metadata": {
        "colab": {
          "base_uri": "https://localhost:8080/"
        },
        "id": "lVh4FxQsg9SY",
        "outputId": "a92e114f-28c7-4de5-aba9-51920312a0ad"
      },
      "execution_count": null,
      "outputs": [
        {
          "output_type": "execute_result",
          "data": {
            "text/plain": [
              "((3463, 6836), (1706, 6836))"
            ]
          },
          "metadata": {},
          "execution_count": 87
        }
      ]
    },
    {
      "cell_type": "markdown",
      "source": [
        "https://medium.com/analytics-vidhya/evaluating-a-random-forest-model-9d165595ad56 Evaluating a random forest model"
      ],
      "metadata": {
        "id": "SYwjriPSM-Cz"
      }
    },
    {
      "cell_type": "code",
      "source": [
        "from sklearn.metrics import confusion_matrix\n",
        "rf_clf = RandomForestClassifier(n_estimators=100, random_state=42)\n",
        "\n",
        "rf_clf.fit(X_train, y_train)\n",
        "\n",
        "y_pred = rf_clf.predict(X_test)\n",
        "\n",
        "print(\"Accuracy:\", accuracy_score(y_test, y_pred))\n",
        "print(\"\\nClassification Report:\\n\", classification_report(y_test, y_pred))"
      ],
      "metadata": {
        "id": "ULqEd2JuhDXy",
        "colab": {
          "base_uri": "https://localhost:8080/"
        },
        "outputId": "df76f049-68a3-4448-9e7b-04ce2129154c"
      },
      "execution_count": null,
      "outputs": [
        {
          "output_type": "stream",
          "name": "stdout",
          "text": [
            "Accuracy: 0.9724501758499414\n",
            "\n",
            "Classification Report:\n",
            "               precision    recall  f1-score   support\n",
            "\n",
            "           0       0.97      1.00      0.98      1482\n",
            "           1       1.00      0.79      0.88       224\n",
            "\n",
            "    accuracy                           0.97      1706\n",
            "   macro avg       0.98      0.90      0.93      1706\n",
            "weighted avg       0.97      0.97      0.97      1706\n",
            "\n"
          ]
        }
      ]
    },
    {
      "cell_type": "code",
      "source": [
        "confusion_matrix(y_test, y_pred)"
      ],
      "metadata": {
        "colab": {
          "base_uri": "https://localhost:8080/"
        },
        "id": "HqASmGdVN-gT",
        "outputId": "dbc5381f-a31c-46d2-829b-169eef103971"
      },
      "execution_count": null,
      "outputs": [
        {
          "output_type": "execute_result",
          "data": {
            "text/plain": [
              "array([[1482,    0],\n",
              "       [  47,  177]])"
            ]
          },
          "metadata": {},
          "execution_count": 89
        }
      ]
    },
    {
      "cell_type": "code",
      "source": [
        "#testing\n",
        "import random\n",
        "\n",
        "random_index = random.randint(0, X_test.shape[0] - 1)\n",
        "\n",
        "random_message = df.iloc[y_test.index[random_index]]['message']\n",
        "#retrieving the Actual Label\n",
        "actual_label = y_test.iloc[random_index]\n",
        "\n",
        "random_message_vectorized = vectorizer.transform([random_message])\n",
        "predicted_label = rf_clf.predict(random_message_vectorized)\n",
        "\n",
        "print(\"Random Message:\", random_message)\n",
        "print(\"Actual Label:\", \"Spam\" if actual_label == 1 else \"Ham\")\n",
        "print(\"Predicted Label:\", \"Spam\" if predicted_label[0] == 1 else \"Ham\")\n"
      ],
      "metadata": {
        "colab": {
          "base_uri": "https://localhost:8080/"
        },
        "id": "PfHafNBTJ02a",
        "outputId": "2a010646-e95f-42be-dfc0-13d41c3b85eb"
      },
      "execution_count": null,
      "outputs": [
        {
          "output_type": "stream",
          "name": "stdout",
          "text": [
            "Random Message: Must come later.. I normally bathe him in da afternoon mah..\n",
            "Actual Label: Ham\n",
            "Predicted Label: Ham\n"
          ]
        }
      ]
    },
    {
      "cell_type": "code",
      "source": [
        "from sklearn.metrics import confusion_matrix, classification_report\n",
        "import seaborn as sns\n",
        "import matplotlib.pyplot as plt\n",
        "\n",
        "X_test = df[['message']]\n",
        "y_test = df['class']\n",
        "\n",
        "y_pred = rf_clf.predict(vectorizer.transform(X_test['message']))\n",
        "\n",
        "cm = confusion_matrix(y_test, y_pred)\n",
        "\n",
        "plt.figure(figsize=(8, 6))\n",
        "sns.heatmap(cm, annot=True, fmt='d', cmap='YlOrBr', xticklabels=['Ham', 'Spam'], yticklabels=['Ham', 'Spam'])\n",
        "plt.ylabel('Actual')\n",
        "plt.xlabel('Predicted')\n",
        "plt.title('Confusion Matrix')\n",
        "plt.show()\n",
        "\n",
        "accuracy = accuracy_score(y_test, y_pred)\n",
        "\n",
        "print(classification_report(y_test, y_pred, target_names=['Ham', 'Spam']))"
      ],
      "metadata": {
        "colab": {
          "base_uri": "https://localhost:8080/",
          "height": 727
        },
        "id": "Y8811t-HxWTz",
        "outputId": "49cc6c45-1d67-41fa-ec72-a0da2d449b27"
      },
      "execution_count": null,
      "outputs": [
        {
          "output_type": "display_data",
          "data": {
            "text/plain": [
              "<Figure size 800x600 with 2 Axes>"
            ],
            "image/png": "[encoded data removed]"
          },
          "metadata": {}
        },
        {
          "output_type": "stream",
          "name": "stdout",
          "text": [
            "              precision    recall  f1-score   support\n",
            "\n",
            "         Ham       0.99      1.00      0.99      4516\n",
            "        Spam       1.00      0.93      0.96       653\n",
            "\n",
            "    accuracy                           0.99      5169\n",
            "   macro avg       0.99      0.96      0.98      5169\n",
            "weighted avg       0.99      0.99      0.99      5169\n",
            "\n"
          ]
        }
      ]
    }
  ]
}