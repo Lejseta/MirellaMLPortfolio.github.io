{
  "nbformat": 4,
  "nbformat_minor": 0,
  "metadata": {
    "colab": {
      "provenance": []
    },
    "kernelspec": {
      "name": "python3",
      "display_name": "Python 3"
    },
    "language_info": {
      "name": "python"
    }
  },
  "cells": [
    {
      "cell_type": "code",
      "execution_count": 108,
      "metadata": {
        "colab": {
          "base_uri": "https://localhost:8080/"
        },
        "id": "FZttdO7Ewhth",
        "outputId": "4b0150e4-6227-4d65-b249-7cbdf75d7492"
      },
      "outputs": [
        {
          "output_type": "stream",
          "name": "stdout",
          "text": [
            "Drive already mounted at /content/drive; to attempt to forcibly remount, call drive.mount(\"/content/drive\", force_remount=True).\n"
          ]
        }
      ],
      "source": [
        "from google.colab import drive\n",
        "drive.mount('/content/drive')"
      ]
    },
    {
      "cell_type": "code",
      "source": [
        "import pandas as pd\n",
        "from sklearn.feature_extraction.text import TfidfVectorizer\n",
        "from sklearn.model_selection import train_test_split\n",
        "from sklearn.tree import DecisionTreeClassifier\n",
        "from sklearn.metrics import classification_report, accuracy_score\n",
        "from sklearn.ensemble import RandomForestClassifier\n",
        "from sklearn.feature_extraction.text import CountVectorizer"
      ],
      "metadata": {
        "id": "Pv_5KgaC0Alc"
      },
      "execution_count": 100,
      "outputs": []
    },
    {
      "cell_type": "markdown",
      "source": [
        "Dataset source: https://archive.ics.uci.edu/dataset/228/sms+spam+collection"
      ],
      "metadata": {
        "id": "gXjIl3m8g2yV"
      }
    },
    {
      "cell_type": "code",
      "source": [
        "csv_file_path = '/content/drive/MyDrive/Datasets/SMSSpamCollection'\n",
        "df = pd.read_csv(csv_file_path, sep='\\t', header=None, names=['class', 'message'])\n",
        "print(df.head())\n",
        "print()\n",
        "\n",
        "print(df.describe())\n",
        "print()\n",
        "\n",
        "num_rows, num_cols = df.shape\n",
        "print(f'Number of rows: {num_rows}')\n",
        "print(f'Number of columns: {num_cols}')\n",
        "print()\n",
        "\n",
        "print(f'Column names: {df.columns}')\n",
        "print()\n"
      ],
      "metadata": {
        "colab": {
          "base_uri": "https://localhost:8080/"
        },
        "id": "gC69g-mGxCiL",
        "outputId": "bf6ac915-b5af-4089-ca38-59b09d76353b"
      },
      "execution_count": 101,
      "outputs": [
        {
          "output_type": "stream",
          "name": "stdout",
          "text": [
            "  class                                            message\n",
            "0   ham  Go until jurong point, crazy.. Available only ...\n",
            "1   ham                      Ok lar... Joking wif u oni...\n",
            "2  spam  Free entry in 2 a wkly comp to win FA Cup fina...\n",
            "3   ham  U dun say so early hor... U c already then say...\n",
            "4   ham  Nah I don't think he goes to usf, he lives aro...\n",
            "\n",
            "       class                 message\n",
            "count   5572                    5572\n",
            "unique     2                    5169\n",
            "top      ham  Sorry, I'll call later\n",
            "freq    4825                      30\n",
            "\n",
            "Number of rows: 5572\n",
            "Number of columns: 2\n",
            "\n",
            "Column names: Index(['class', 'message'], dtype='object')\n",
            "\n"
          ]
        }
      ]
    },
    {
      "cell_type": "code",
      "source": [
        "#4825 Ham\n",
        "#747 Spam"
      ],
      "metadata": {
        "id": "cgl4m38r2wur"
      },
      "execution_count": 102,
      "outputs": []
    },
    {
      "cell_type": "code",
      "source": [
        "data = df['class'].value_counts()\n",
        "plt.figure(figsize=(8, 5))\n",
        "patches = data.plot(kind='bar', color=['green', 'red'])\n",
        "plt.title('Ham and Spam Count')\n",
        "plt.xlabel('Message Type')\n",
        "plt.ylabel('Count')\n",
        "#x label horizontal\n",
        "plt.xticks(rotation=0)\n",
        "plt.grid(axis='y', linestyle='--', alpha=0.7)\n",
        "\n",
        "for bar in patches.patches:\n",
        "    plt.annotate(f'{bar.get_height()}',\n",
        "    (bar.get_x() + bar.get_width() / 2, bar.get_height()), ha='center', va='bottom')\n",
        "\n",
        "plt.show()"
      ],
      "metadata": {
        "colab": {
          "base_uri": "https://localhost:8080/",
          "height": 487
        },
        "id": "xv226Eik0xE7",
        "outputId": "0e98882a-325b-4732-e6d3-8e6b9ca38d12"
      },
      "execution_count": 109,
      "outputs": [
        {
          "output_type": "display_data",
          "data": {
            "text/plain": [
              "<Figure size 800x500 with 1 Axes>"
            ],
            "image/png": "[encoded data removed]"
          },
          "metadata": {}
        }
      ]
    },
    {
      "cell_type": "code",
      "source": [
        "df['class'] = df['class'].replace({'ham': 0, 'spam': 1})\n",
        "\n",
        "print(df.head())"
      ],
      "metadata": {
        "colab": {
          "base_uri": "https://localhost:8080/"
        },
        "id": "Ve12dPJY3z_l",
        "outputId": "14a5d7de-38c3-4aae-c4fa-a1c76102bf68"
      },
      "execution_count": 110,
      "outputs": [
        {
          "output_type": "stream",
          "name": "stdout",
          "text": [
            "   class                                            message\n",
            "0      0  Go until jurong point, crazy.. Available only ...\n",
            "1      0                      Ok lar... Joking wif u oni...\n",
            "2      1  Free entry in 2 a wkly comp to win FA Cup fina...\n",
            "3      0  U dun say so early hor... U c already then say...\n",
            "4      0  Nah I don't think he goes to usf, he lives aro...\n"
          ]
        }
      ]
    },
    {
      "cell_type": "markdown",
      "source": [
        "Tutorial: https://www.kaggle.com/code/prashant111/random-forest-classifier-tutorial"
      ],
      "metadata": {
        "id": "-2hcgJ7Txksb"
      }
    },
    {
      "cell_type": "code",
      "source": [
        "X = df[\"message\"]\n",
        "y = df[\"class\"]\n",
        "X_train, X_test, y_train, y_test = train_test_split(X, y, test_size = 0.33, random_state = 42)\n",
        "vectorizer = TfidfVectorizer()\n",
        "\n",
        "#transform text into numerical values\n",
        "X_train = vectorizer.fit_transform(X_train)\n",
        "X_test = vectorizer.transform(X_test)"
      ],
      "metadata": {
        "id": "HDvFyVFrxjQ-"
      },
      "execution_count": 123,
      "outputs": []
    },
    {
      "cell_type": "code",
      "source": [
        "# shape of X and Y\n",
        "X_train.shape, X_test.shape"
      ],
      "metadata": {
        "colab": {
          "base_uri": "https://localhost:8080/"
        },
        "id": "lVh4FxQsg9SY",
        "outputId": "91de9f50-06a2-4f76-b648-ec94db77fa81"
      },
      "execution_count": 118,
      "outputs": [
        {
          "output_type": "execute_result",
          "data": {
            "text/plain": [
              "((3733, 7082), (1839, 7082))"
            ]
          },
          "metadata": {},
          "execution_count": 118
        }
      ]
    },
    {
      "cell_type": "markdown",
      "source": [
        "https://medium.com/analytics-vidhya/evaluating-a-random-forest-model-9d165595ad56 Evaluating a random forst model"
      ],
      "metadata": {
        "id": "SYwjriPSM-Cz"
      }
    },
    {
      "cell_type": "code",
      "source": [
        "from sklearn.metrics import confusion_matrix\n",
        "rf_clf = RandomForestClassifier(n_estimators=100, random_state=42)\n",
        "\n",
        "rf_clf.fit(X_train, y_train)\n",
        "\n",
        "y_pred = rf_clf.predict(X_test)\n",
        "\n",
        "print(\"Accuracy:\", accuracy_score(y_test, y_pred))\n",
        "print(\"\\nClassification Report:\\n\", classification_report(y_test, y_pred))"
      ],
      "metadata": {
        "id": "ULqEd2JuhDXy",
        "colab": {
          "base_uri": "https://localhost:8080/"
        },
        "outputId": "905210e8-37b2-4347-a932-e82fe40470f0"
      },
      "execution_count": 119,
      "outputs": [
        {
          "output_type": "stream",
          "name": "stdout",
          "text": [
            "Accuracy: 0.9804241435562806\n",
            "\n",
            "Classification Report:\n",
            "               precision    recall  f1-score   support\n",
            "\n",
            "           0       0.98      1.00      0.99      1593\n",
            "           1       1.00      0.85      0.92       246\n",
            "\n",
            "    accuracy                           0.98      1839\n",
            "   macro avg       0.99      0.93      0.95      1839\n",
            "weighted avg       0.98      0.98      0.98      1839\n",
            "\n"
          ]
        }
      ]
    },
    {
      "cell_type": "code",
      "source": [
        "confusion_matrix(y_test, y_pred)"
      ],
      "metadata": {
        "colab": {
          "base_uri": "https://localhost:8080/"
        },
        "id": "HqASmGdVN-gT",
        "outputId": "d1c6c139-54f8-4349-f82d-a346d839f7c6"
      },
      "execution_count": 120,
      "outputs": [
        {
          "output_type": "execute_result",
          "data": {
            "text/plain": [
              "array([[1593,    0],\n",
              "       [  36,  210]])"
            ]
          },
          "metadata": {},
          "execution_count": 120
        }
      ]
    },
    {
      "cell_type": "code",
      "source": [
        "#testing\n",
        "import random\n",
        "\n",
        "random_index = random.randint(0, X_test.shape[0] - 1)\n",
        "\n",
        "random_message = df.iloc[y_test.index[random_index]]['message']\n",
        "#retrieving the Actual Label\n",
        "actual_label = y_test.iloc[random_index]\n",
        "\n",
        "random_message_vectorized = vectorizer.transform([random_message])\n",
        "predicted_label = rf_clf.predict(random_message_vectorized)\n",
        "\n",
        "print(\"Random Message:\", random_message)\n",
        "print(\"Actual Label:\", \"Spam\" if actual_label == 1 else \"Ham\")\n",
        "print(\"Predicted Label:\", \"Spam\" if predicted_label[0] == 1 else \"Ham\")\n"
      ],
      "metadata": {
        "colab": {
          "base_uri": "https://localhost:8080/"
        },
        "id": "PfHafNBTJ02a",
        "outputId": "a77041f6-55ab-427b-f6a2-65dcb2f6de38"
      },
      "execution_count": 121,
      "outputs": [
        {
          "output_type": "stream",
          "name": "stdout",
          "text": [
            "Random Message: Ay wana meet on sat?ü wkg on sat?\n",
            "Actual Label: Ham\n",
            "Predicted Label: Ham\n"
          ]
        }
      ]
    },
    {
      "cell_type": "code",
      "source": [
        "from sklearn.metrics import confusion_matrix, classification_report\n",
        "import seaborn as sns\n",
        "import matplotlib.pyplot as plt\n",
        "\n",
        "X_test = df[['message']]\n",
        "y_test = df['class']\n",
        "\n",
        "y_pred = rf_clf.predict(vectorizer.transform(X_test['message']))\n",
        "\n",
        "cm = confusion_matrix(y_test, y_pred)\n",
        "\n",
        "plt.figure(figsize=(8, 6))\n",
        "sns.heatmap(cm, annot=True, fmt='d', cmap='YlOrBr', xticklabels=['Ham', 'Spam'], yticklabels=['Ham', 'Spam'])\n",
        "plt.ylabel('Actual')\n",
        "plt.xlabel('Predicted')\n",
        "plt.title('Confusion Matrix')\n",
        "plt.show()\n",
        "\n",
        "print(classification_report(y_test, y_pred, target_names=['Ham', 'Spam']))"
      ],
      "metadata": {
        "colab": {
          "base_uri": "https://localhost:8080/",
          "height": 727
        },
        "id": "Y8811t-HxWTz",
        "outputId": "4f09f767-fad2-4b0d-89af-22b68a25d8c5"
      },
      "execution_count": 122,
      "outputs": [
        {
          "output_type": "display_data",
          "data": {
            "text/plain": [
              "<Figure size 800x600 with 2 Axes>"
            ],
            "image/png": "[encoded data removed]"
          },
          "metadata": {}
        },
        {
          "output_type": "stream",
          "name": "stdout",
          "text": [
            "              precision    recall  f1-score   support\n",
            "\n",
            "         Ham       0.99      1.00      1.00      4825\n",
            "        Spam       1.00      0.95      0.98       747\n",
            "\n",
            "    accuracy                           0.99      5572\n",
            "   macro avg       1.00      0.98      0.99      5572\n",
            "weighted avg       0.99      0.99      0.99      5572\n",
            "\n"
          ]
        }
      ]
    }
  ]
}