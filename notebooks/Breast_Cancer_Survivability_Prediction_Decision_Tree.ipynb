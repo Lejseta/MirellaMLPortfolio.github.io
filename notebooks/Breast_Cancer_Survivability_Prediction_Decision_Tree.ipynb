{
  "nbformat": 4,
  "nbformat_minor": 0,
  "metadata": {
    "colab": {
      "provenance": []
    },
    "kernelspec": {
      "name": "python3",
      "display_name": "Python 3"
    },
    "language_info": {
      "name": "python"
    }
  },
  "cells": [
    {
      "cell_type": "code",
      "execution_count": 2,
      "metadata": {
        "colab": {
          "base_uri": "https://localhost:8080/"
        },
        "id": "IMcsCwGsUjby",
        "outputId": "2b375bd5-09dd-4c2a-f367-37a8de6d8dd5"
      },
      "outputs": [
        {
          "output_type": "stream",
          "name": "stdout",
          "text": [
            "Mounted at /content/drive\n"
          ]
        }
      ],
      "source": [
        "from google.colab import drive\n",
        "drive.mount('/content/drive')"
      ]
    },
    {
      "cell_type": "markdown",
      "source": [
        "Mirella Glowinska\n",
        "Source: https://www.kaggle.com/datasets/reihanenamdari/breast-cancer/code"
      ],
      "metadata": {
        "id": "oovEIXGKMRF9"
      }
    },
    {
      "cell_type": "code",
      "source": [
        "import pandas as pd\n",
        "import matplotlib.pyplot as plt\n",
        "import seaborn as sns\n",
        "from sklearn.model_selection import train_test_split\n",
        "from sklearn.preprocessing import LabelEncoder\n",
        "from sklearn.tree import DecisionTreeClassifier\n",
        "from sklearn.metrics import accuracy_score, classification_report, confusion_matrix\n",
        "from sklearn.metrics import mean_absolute_error, mean_squared_error, r2_score\n",
        "import numpy as np"
      ],
      "metadata": {
        "id": "TRA28UlsfWtO"
      },
      "execution_count": 3,
      "outputs": []
    },
    {
      "cell_type": "code",
      "source": [
        "csv_file_path = '/content/drive/MyDrive/Datasets/Breast_Cancer.csv'\n",
        "df = pd.read_csv(csv_file_path)\n",
        "print(df.head())\n",
        "\n",
        "print(df.describe())"
      ],
      "metadata": {
        "colab": {
          "base_uri": "https://localhost:8080/"
        },
        "id": "XYPF0dFMeGLN",
        "outputId": "72b7a083-b108-4b2a-f8c6-2d8c11dd3d9d"
      },
      "execution_count": 25,
      "outputs": [
        {
          "output_type": "stream",
          "name": "stdout",
          "text": [
            "   Age   Race Marital Status T Stage  N Stage 6th Stage  \\\n",
            "0   68  White        Married       T1      N1       IIA   \n",
            "1   50  White        Married       T2      N2      IIIA   \n",
            "2   58  White       Divorced       T3      N3      IIIC   \n",
            "3   58  White        Married       T1      N1       IIA   \n",
            "4   47  White        Married       T2      N1       IIB   \n",
            "\n",
            "               differentiate Grade   A Stage  Tumor Size Estrogen Status  \\\n",
            "0      Poorly differentiated     3  Regional           4        Positive   \n",
            "1  Moderately differentiated     2  Regional          35        Positive   \n",
            "2  Moderately differentiated     2  Regional          63        Positive   \n",
            "3      Poorly differentiated     3  Regional          18        Positive   \n",
            "4      Poorly differentiated     3  Regional          41        Positive   \n",
            "\n",
            "  Progesterone Status  Regional Node Examined  Reginol Node Positive  \\\n",
            "0            Positive                      24                      1   \n",
            "1            Positive                      14                      5   \n",
            "2            Positive                      14                      7   \n",
            "3            Positive                       2                      1   \n",
            "4            Positive                       3                      1   \n",
            "\n",
            "   Survival Months Status  \n",
            "0               60  Alive  \n",
            "1               62  Alive  \n",
            "2               75  Alive  \n",
            "3               84  Alive  \n",
            "4               50  Alive  \n",
            "               Age   Tumor Size  Regional Node Examined  \\\n",
            "count  4024.000000  4024.000000             4024.000000   \n",
            "mean     53.972167    30.473658               14.357107   \n",
            "std       8.963134    21.119696                8.099675   \n",
            "min      30.000000     1.000000                1.000000   \n",
            "25%      47.000000    16.000000                9.000000   \n",
            "50%      54.000000    25.000000               14.000000   \n",
            "75%      61.000000    38.000000               19.000000   \n",
            "max      69.000000   140.000000               61.000000   \n",
            "\n",
            "       Reginol Node Positive  Survival Months  \n",
            "count            4024.000000      4024.000000  \n",
            "mean                4.158052        71.297962  \n",
            "std                 5.109331        22.921430  \n",
            "min                 1.000000         1.000000  \n",
            "25%                 1.000000        56.000000  \n",
            "50%                 2.000000        73.000000  \n",
            "75%                 5.000000        90.000000  \n",
            "max                46.000000       107.000000  \n"
          ]
        }
      ]
    },
    {
      "cell_type": "code",
      "source": [
        "num_rows, num_cols = df.shape\n",
        "print(f'Number of rows: {num_rows}')\n",
        "print(f'Number of columns: {num_cols}')"
      ],
      "metadata": {
        "colab": {
          "base_uri": "https://localhost:8080/"
        },
        "id": "HcEIodxoFpW1",
        "outputId": "977a0bbe-2951-4e99-affe-265e5d0f5543"
      },
      "execution_count": 5,
      "outputs": [
        {
          "output_type": "stream",
          "name": "stdout",
          "text": [
            "Number of rows: 4024\n",
            "Number of columns: 16\n"
          ]
        }
      ]
    },
    {
      "cell_type": "code",
      "source": [
        "print(f'Column names: {df.columns}')"
      ],
      "metadata": {
        "colab": {
          "base_uri": "https://localhost:8080/"
        },
        "id": "cxB76tKsHTwk",
        "outputId": "55c2de1a-49b6-49ca-b4dd-32acdce58e01"
      },
      "execution_count": 17,
      "outputs": [
        {
          "output_type": "stream",
          "name": "stdout",
          "text": [
            "Column names: Index(['Age', 'Race', 'Marital Status', 'T Stage ', 'N Stage', '6th Stage',\n",
            "       'differentiate', 'Grade', 'A Stage', 'Tumor Size', 'Estrogen Status',\n",
            "       'Progesterone Status', 'Regional Node Examined',\n",
            "       'Reginol Node Positive', 'Survival Months', 'Status'],\n",
            "      dtype='object')\n"
          ]
        }
      ]
    },
    {
      "cell_type": "code",
      "source": [
        "label_encoders = {}\n",
        "for column in df.select_dtypes(include=['object']).columns:\n",
        "    le = LabelEncoder()\n",
        "    df[column] = le.fit_transform(df[column])\n",
        "    label_encoders[column] = le\n",
        "\n",
        "\n",
        "X = df.drop(columns=[\"Status\"])\n",
        "y = df[\"Status\"]"
      ],
      "metadata": {
        "id": "s7qB6z3Yginl"
      },
      "execution_count": 27,
      "outputs": []
    },
    {
      "cell_type": "code",
      "source": [
        "X_train, X_test, y_train, y_test = train_test_split(X, y, test_size=0.2, random_state=42)\n",
        "\n",
        "clf = DecisionTreeClassifier(random_state=42)\n",
        "\n",
        "clf.fit(X_train, y_train)\n",
        "\n",
        "y_pred = clf.predict(X_test)\n",
        "\n",
        "accuracy = accuracy_score(y_test, y_pred)\n",
        "print(\"\\nAccuracy:\", accuracy)\n",
        "print(\"\\nClassification Report:\\n\", classification_report(y_test, y_pred))"
      ],
      "metadata": {
        "colab": {
          "base_uri": "https://localhost:8080/"
        },
        "id": "crbGYhYmg1SF",
        "outputId": "92004da1-8728-430d-8bf5-d22b7ea5b12e"
      },
      "execution_count": 29,
      "outputs": [
        {
          "output_type": "stream",
          "name": "stdout",
          "text": [
            "\n",
            "Accuracy: 0.867080745341615\n",
            "\n",
            "Classification Report:\n",
            "               precision    recall  f1-score   support\n",
            "\n",
            "           0       0.92      0.93      0.92       685\n",
            "           1       0.56      0.53      0.54       120\n",
            "\n",
            "    accuracy                           0.87       805\n",
            "   macro avg       0.74      0.73      0.73       805\n",
            "weighted avg       0.86      0.87      0.87       805\n",
            "\n"
          ]
        }
      ]
    },
    {
      "cell_type": "code",
      "source": [
        "cm= confusion_matrix(y_test, y_pred)"
      ],
      "metadata": {
        "id": "8SZB6RZAhWW9"
      },
      "execution_count": 11,
      "outputs": []
    },
    {
      "cell_type": "code",
      "source": [
        "plt.figure(figsize=(8, 6))\n",
        "sns.heatmap(cm, annot=True, fmt='d', cmap='YlOrBr', cbar=False,\n",
        "            xticklabels=['Alive', 'Dead'],\n",
        "            yticklabels=['Alive', 'Dead'])\n",
        "plt.xlabel('Predicted')\n",
        "plt.ylabel('Actual')\n",
        "plt.title('Confusion Matrix')\n",
        "plt.show()"
      ],
      "metadata": {
        "colab": {
          "base_uri": "https://localhost:8080/",
          "height": 564
        },
        "id": "msjAuS0VGMO7",
        "outputId": "8c572906-bc46-4e14-a216-e960d8325d6c"
      },
      "execution_count": 28,
      "outputs": [
        {
          "output_type": "display_data",
          "data": {
            "text/plain": [
              "<Figure size 800x600 with 1 Axes>"
            ],
            "image/png": "[encoded data removed]"
          },
          "metadata": {}
        }
      ]
    }
  ]
}